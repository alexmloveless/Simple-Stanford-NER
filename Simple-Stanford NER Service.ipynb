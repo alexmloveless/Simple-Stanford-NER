{
 "cells": [
  {
   "cell_type": "markdown",
   "metadata": {},
   "source": [
    "## NER tagging via Stanford NER service\n",
    "\n",
    "This is actually an instance of the CoreNLP server that also does a bunch of other stuff that you may find useful. See here:\n",
    "\n",
    "https://stanfordnlp.github.io/CoreNLP/annotators.html\n",
    "\n",
    "Requires that CoreNLP is running on your local machine or a server. E.g.\n",
    "\n",
    "```\n",
    "$ mkdir /usr/local/stanford\n",
    "$ cd /usr/local/stanford\n",
    "$ wget http://nlp.stanford.edu/software/stanford-corenlp-full-2017-06-09.zip\n",
    "$ unzip stanford-corenlp-full-2017-06-09.zip\n",
    "$ cd stanford-corenlp-full-2017-06-09\n",
    "$ nohup java -mx4g -cp \"*\" edu.stanford.nlp.pipeline.StanfordCoreNLPServer -port 9000 -timeout 15000 &\n",
    "```\n",
    "\n",
    "The code below requires https://github.com/nltk/nltk/releases/tag/3.2.5\n",
    "\n"
   ]
  },
  {
   "cell_type": "code",
   "execution_count": null,
   "metadata": {
    "collapsed": false
   },
   "outputs": [],
   "source": [
    "from nltk.tag.stanford import CoreNLPNERTagger"
   ]
  },
  {
   "cell_type": "markdown",
   "metadata": {},
   "source": [
    "It'll be must faster if you run using a notebook in the server"
   ]
  },
  {
   "cell_type": "code",
   "execution_count": null,
   "metadata": {
    "collapsed": true
   },
   "outputs": [],
   "source": [
    "server = 'localhost' # or your servername (without 'http://')\n",
    "port = 9000 # change if you decide on a different port"
   ]
  },
  {
   "cell_type": "markdown",
   "metadata": {},
   "source": [
    "There are some simpler function in NLTK than I've used below, but they are seriously limiting. See here:\n",
    "http://www.nltk.org/api/nltk.tag.html#module-nltk.tag.stanford"
   ]
  },
  {
   "cell_type": "code",
   "execution_count": null,
   "metadata": {
    "collapsed": false
   },
   "outputs": [],
   "source": [
    "s_ner = CoreNLPNERTagger(url='http://'+server+\":\"+str(port))\n",
    "def socket_ner(text, properties=None, regexner=False):\n",
    "    \n",
    "    sents = []\n",
    "    \n",
    "    if regexner:\n",
    "        ann = 'tokenize,ssplit,ner,regexner,entitymentions'\n",
    "    else:\n",
    "        ann = 'tokenize,ssplit,ner,entitymentions'\n",
    "    props = {\n",
    "        'ssplit.isOneSentence': 'true',\n",
    "        'annotators': ann\n",
    "    }\n",
    "    # if you override 'annotators' this will likely break. \n",
    "    # If you add more properties, be sure to check the results carefully\n",
    "    props.update(properties or {})\n",
    "    \n",
    "    if type(text) == str:\n",
    "        text = [text]\n",
    "        \n",
    "    for s in text:\n",
    "        # returns a dict\n",
    "        ret = s_ner.api_call(s, properties=props)\n",
    "        \n",
    "        for r in ret['sentences']:\n",
    "            res = {\n",
    "                'sentence' : s,\n",
    "                'entities' : [(m['text'], m['ner']) for m in r['entitymentions']],\n",
    "                'tokens' : [(t['word'], t['ner']) for t in r['tokens']]\n",
    "            }\n",
    "            sents.append(res)\n",
    "    return sents"
   ]
  },
  {
   "cell_type": "markdown",
   "metadata": {},
   "source": [
    "Some institution strings taken from pubmed papers"
   ]
  },
  {
   "cell_type": "code",
   "execution_count": null,
   "metadata": {
    "collapsed": true
   },
   "outputs": [],
   "source": [
    "text = [\n",
    "    'Department of Biomedical Science and Environmental Biology, Kaohsiung Medical University, Kaohsiung, Taiwan.',\n",
    "    'Institute of Biomedical Sciences, Academia Sinica, Taipei, Taiwan.',\n",
    "    'Department of Radiation Oncology, Cancer Center, Kaohsiung Medical University Hospital, Kaohsiung Medical University, Kaohsiung, Taiwan.',\n",
    "    'Department of Gynecology, Renmin Hospital of Wuhan University Wuhan 430060, China.',\n",
    "    'Lunenfeld-Tanenbaum Research Institute, Mount Sinai Hospital, 600 University Avenue, Toronto, Ontario, Canada M5G 1X5.',\n",
    "    'Department of Chemistry and Biochemistry, University of Colorado, 215 UCB, Boulder, CO 80309, USA. callie.cole@colorado.edu.'\n",
    "]"
   ]
  },
  {
   "cell_type": "markdown",
   "metadata": {},
   "source": [
    "Returns a dict with individual entities and also tokens"
   ]
  },
  {
   "cell_type": "code",
   "execution_count": null,
   "metadata": {
    "collapsed": false
   },
   "outputs": [],
   "source": [
    "socket_ner(text)"
   ]
  },
  {
   "cell_type": "markdown",
   "metadata": {},
   "source": [
    "Gives extended tagset as per this page https://stanfordnlp.github.io/CoreNLP/regexner.html"
   ]
  },
  {
   "cell_type": "code",
   "execution_count": null,
   "metadata": {
    "collapsed": false
   },
   "outputs": [],
   "source": [
    "socket_ner(text, regexner=True)"
   ]
  }
 ],
 "metadata": {
  "kernelspec": {
   "display_name": "Python 2",
   "language": "python",
   "name": "python2"
  },
  "language_info": {
   "codemirror_mode": {
    "name": "ipython",
    "version": 2
   },
   "file_extension": ".py",
   "mimetype": "text/x-python",
   "name": "python",
   "nbconvert_exporter": "python",
   "pygments_lexer": "ipython2",
   "version": "2.7.13"
  }
 },
 "nbformat": 4,
 "nbformat_minor": 0
}
